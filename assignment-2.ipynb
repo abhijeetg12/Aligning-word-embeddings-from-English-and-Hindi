{
  "cells": [
    {
      "cell_type": "code",
      "execution_count": 1,
      "metadata": {
        "id": "E5uRRznYZehf"
      },
      "outputs": [],
      "source": [
        "# Cross-Lingual Word Embedding Alignment for English and Hindi\n",
        "# Implementation of the Procrustes method\n",
        "\n",
        "# Import required libraries\n",
        "import numpy as np\n",
        "import pandas as pd\n",
        "import matplotlib.pyplot as plt\n",
        "import os\n",
        "import requests\n",
        "from tqdm.notebook import tqdm\n",
        "from sklearn.metrics.pairwise import cosine_similarity\n",
        "\n",
        "# Set random seed for reproducibility\n",
        "np.random.seed(42)\n"
      ]
    },
    {
      "cell_type": "code",
      "execution_count": 2,
      "metadata": {
        "colab": {
          "base_uri": "https://localhost:8080/",
          "height": 263,
          "referenced_widgets": [
            "2bca7a689357436a8a0fe0108ff9f50d",
            "0e09131480f34ba4b5d6c9edec7a5199",
            "f2e1d7b18c074843829afb604e0c573f",
            "836e4ee289694185b90523e59d92c8d7",
            "8a59fdbcf0e84886bc2f6688802ddece",
            "534e1fa40b8542dda97c99428a41c932",
            "c2b1c50c8fef40adac2654f9bbc2c1cf",
            "9dd383abc98a406f9896d19cf9064bd2",
            "8f4deddbf6ee4b5ab193914e20a57484",
            "7e48a947c6284b8eb93e7c009a1a1c76",
            "b39e8dd8b56f4933b57271ae6ef114a7",
            "50313a4243884ff59adb10a38fc16013",
            "0417507118154f0890241f2700601cc5",
            "8922ba1efc5b429ba03cf490b31f3009",
            "7982095521b542a38c39bdec2f9cf3f9",
            "0e0ed61997f54b458f5abee8458568c4",
            "52ee374c8e3740ce8ace92f6a35132b7",
            "908272d4c015433d9c338b7268e7c93d",
            "f12bcbaffaec45c1ac1c4cb773224633",
            "b490ca5e19ba4eadaf2294e4f7e5c2a2",
            "6270a8db95d54ba799e3580f5e4def7e",
            "3ae094d858414e80a0821faf47d605ec"
          ]
        },
        "id": "qqQ1YPWCZmPk",
        "outputId": "77b965ad-db14-4989-e677-0506fe37cbf0"
      },
      "outputs": [
        {
          "name": "stdout",
          "output_type": "stream",
          "text": [
            "Downloading wiki.en.vec...\n",
            "Downloaded wiki.en.vec\n",
            "Downloading wiki.hi.vec...\n",
            "Downloaded wiki.hi.vec\n",
            "Downloading en-hi.txt...\n",
            "Downloaded en-hi.txt\n"
          ]
        },
        {
          "data": {
            "application/vnd.jupyter.widget-view+json": {
              "model_id": "2bca7a689357436a8a0fe0108ff9f50d",
              "version_major": 2,
              "version_minor": 0
            },
            "text/plain": [
              "Loading wiki.en.vec:   0%|          | 0/100000 [00:00<?, ?it/s]"
            ]
          },
          "metadata": {},
          "output_type": "display_data"
        },
        {
          "name": "stdout",
          "output_type": "stream",
          "text": [
            "Loaded 100000 word vectors of dimension 300\n"
          ]
        },
        {
          "data": {
            "application/vnd.jupyter.widget-view+json": {
              "model_id": "50313a4243884ff59adb10a38fc16013",
              "version_major": 2,
              "version_minor": 0
            },
            "text/plain": [
              "Loading wiki.hi.vec:   0%|          | 0/100000 [00:00<?, ?it/s]"
            ]
          },
          "metadata": {},
          "output_type": "display_data"
        },
        {
          "name": "stdout",
          "output_type": "stream",
          "text": [
            "Loaded 100000 word vectors of dimension 300\n",
            "Loaded 38221 word pairs\n",
            "Training dictionary: 30576 pairs\n",
            "Test dictionary: 7645 pairs\n"
          ]
        }
      ],
      "source": [
        "\n",
        "# 1. Data Preparation\n",
        "\n",
        "# 1.1 Download pre-trained FastText embeddings and MUSE dataset\n",
        "def download_file(url, filename):\n",
        "    \"\"\"Download a file from URL if it doesn't exist\"\"\"\n",
        "    if not os.path.exists(filename):\n",
        "        print(f\"Downloading {filename}...\")\n",
        "        response = requests.get(url)\n",
        "        with open(filename, 'wb') as f:\n",
        "            f.write(response.content)\n",
        "        print(f\"Downloaded {filename}\")\n",
        "    else:\n",
        "        print(f\"{filename} already exists\")\n",
        "\n",
        "# Download English FastText embeddings\n",
        "en_url = \"https://dl.fbaipublicfiles.com/fasttext/vectors-wiki/wiki.en.vec\"\n",
        "en_file = \"wiki.en.vec\"\n",
        "download_file(en_url, en_file)\n",
        "\n",
        "# Download Hindi FastText embeddings\n",
        "hi_url = \"https://dl.fbaipublicfiles.com/fasttext/vectors-wiki/wiki.hi.vec\"\n",
        "hi_file = \"wiki.hi.vec\"\n",
        "download_file(hi_url, hi_file)\n",
        "\n",
        "# Download MUSE bilingual lexicon (English-Hindi)\n",
        "muse_url = \"https://dl.fbaipublicfiles.com/arrival/dictionaries/en-hi.txt\"\n",
        "muse_file = \"en-hi.txt\"\n",
        "download_file(muse_url, muse_file)\n",
        "\n",
        "# 1.2 Load word embeddings (top 100,000 most frequent words)\n",
        "def load_vectors(file_path, max_vocab=100000):\n",
        "    \"\"\"Load word vectors from file\"\"\"\n",
        "    word_vectors = {}\n",
        "\n",
        "    with open(file_path, 'r', encoding='utf-8', newline='\\n', errors='ignore') as f:\n",
        "        n, d = map(int, f.readline().split())\n",
        "        count = 0\n",
        "\n",
        "        for line in tqdm(f, total=min(n, max_vocab), desc=f\"Loading {file_path}\"):\n",
        "            tokens = line.rstrip().split(' ')\n",
        "            word = tokens[0]\n",
        "            vector = np.array(tokens[1:], dtype=float)\n",
        "            word_vectors[word] = vector\n",
        "            count += 1\n",
        "\n",
        "            if count >= max_vocab:\n",
        "                break\n",
        "\n",
        "    print(f\"Loaded {len(word_vectors)} word vectors of dimension {d}\")\n",
        "    return word_vectors\n",
        "\n",
        "# Load English word embeddings\n",
        "en_vectors = load_vectors(en_file)\n",
        "\n",
        "# Load Hindi word embeddings\n",
        "hi_vectors = load_vectors(hi_file)\n",
        "\n",
        "# 1.3 Load bilingual lexicon from MUSE dataset\n",
        "def load_dictionary(file_path):\n",
        "    \"\"\"Load word translation pairs from dictionary file\"\"\"\n",
        "    word_pairs = []\n",
        "\n",
        "    with open(file_path, 'r', encoding='utf-8') as f:\n",
        "        for line in f:\n",
        "            src, tgt = line.rstrip().split()\n",
        "            word_pairs.append((src, tgt))\n",
        "\n",
        "    print(f\"Loaded {len(word_pairs)} word pairs\")\n",
        "    return word_pairs\n",
        "\n",
        "muse_dict = load_dictionary(muse_file)\n",
        "\n",
        "# 1.4 Split the dictionary into train and test sets\n",
        "def split_dictionary(pairs, train_ratio=0.8):\n",
        "    \"\"\"Split dictionary into training and test sets\"\"\"\n",
        "    np.random.shuffle(pairs)\n",
        "    split_idx = int(len(pairs) * train_ratio)\n",
        "    train_pairs = pairs[:split_idx]\n",
        "    test_pairs = pairs[split_idx:]\n",
        "    return train_pairs, test_pairs\n",
        "\n",
        "train_dict, test_dict = split_dictionary(muse_dict)\n",
        "print(f\"Training dictionary: {len(train_dict)} pairs\")\n",
        "print(f\"Test dictionary: {len(test_dict)} pairs\")\n"
      ]
    },
    {
      "cell_type": "code",
      "execution_count": 3,
      "metadata": {
        "colab": {
          "base_uri": "https://localhost:8080/"
        },
        "id": "4IV76iG6Zqi5",
        "outputId": "582a0666-f469-4c30-de5a-f11fc789acf9"
      },
      "outputs": [
        {
          "name": "stdout",
          "output_type": "stream",
          "text": [
            "Prepared training matrices with 22813 word pairs\n",
            "Alignment matrix shape: (300, 300)\n"
          ]
        }
      ],
      "source": [
        "\n",
        "# 2. Embedding Alignment using Procrustes Method\n",
        "\n",
        "# 2.1 Prepare embedding matrices for alignment\n",
        "def prepare_matrices(src_vectors, tgt_vectors, word_pairs):\n",
        "    \"\"\"Extract matrices of word vectors for the given word pairs\"\"\"\n",
        "    # Filter pairs where both source and target words exist in embeddings\n",
        "    valid_pairs = [(s, t) for s, t in word_pairs if s in src_vectors and t in tgt_vectors]\n",
        "\n",
        "    if len(valid_pairs) == 0:\n",
        "        raise ValueError(\"No valid translation pairs found in embeddings\")\n",
        "\n",
        "    # Create source and target matrices\n",
        "    X = np.vstack([src_vectors[s] for s, _ in valid_pairs])\n",
        "    Y = np.vstack([tgt_vectors[t] for _, t in valid_pairs])\n",
        "\n",
        "    return X, Y, valid_pairs\n",
        "\n",
        "# Prepare matrices for training\n",
        "X_train, Y_train, valid_train_pairs = prepare_matrices(en_vectors, hi_vectors, train_dict)\n",
        "print(f\"Prepared training matrices with {len(valid_train_pairs)} word pairs\")\n",
        "\n",
        "# 2.2 Normalize embeddings to unit length\n",
        "def normalize_embeddings(emb):\n",
        "    \"\"\"Normalize embeddings to unit length\"\"\"\n",
        "    norms = np.sqrt(np.sum(emb**2, axis=1, keepdims=True))\n",
        "    return emb / norms\n",
        "\n",
        "X_train_norm = normalize_embeddings(X_train)\n",
        "Y_train_norm = normalize_embeddings(Y_train)\n",
        "\n",
        "# 2.3 Learn alignment matrix using Procrustes method\n",
        "def procrustes_align(X, Y):\n",
        "    \"\"\"Learn orthogonal transformation from X to Y using Procrustes analysis\"\"\"\n",
        "    # Compute X^T * Y\n",
        "    XTY = X.T.dot(Y)\n",
        "\n",
        "    # Apply SVD\n",
        "    U, _, Vt = np.linalg.svd(XTY)\n",
        "\n",
        "    # Compute orthogonal transformation matrix\n",
        "    W = U.dot(Vt)\n",
        "\n",
        "    return W\n",
        "\n",
        "W = procrustes_align(X_train_norm, Y_train_norm)\n",
        "print(f\"Alignment matrix shape: {W.shape}\")\n"
      ]
    },
    {
      "cell_type": "code",
      "execution_count": null,
      "metadata": {
        "colab": {
          "base_uri": "https://localhost:8080/",
          "height": 493,
          "referenced_widgets": [
            "e228f452921c4345b9f8d8604f8afd98",
            "c7db5d59cc434165a2ff0b05b99a5c30",
            "015d4e9395404e1c818363396b9fc349",
            "731b2782143a4e33b5148b0c200792b8",
            "25e74020842b47129ac70759456fe121",
            "1c8168cd83f94591938173ca76008a8d",
            "a2b7124d6639466e9519adbe4bd17130",
            "a64a78acf1cf4c51b31e99dddac7f5da",
            "2984b2e210fa4c21a15d018d389f957a",
            "d04ae79ba43040d08ebe8a7ed69904e2",
            "bce676a2407245ff90f6676ffd5a59fa"
          ]
        },
        "id": "7d_cjkbyZucA",
        "outputId": "5d0424e7-8be0-4d0d-81aa-6e65849f3788"
      },
      "outputs": [],
      "source": [
        "\n",
        "# 3. Evaluation\n",
        "\n",
        "# 3.1 Word translation function\n",
        "def translate_word(word, src_vectors, tgt_vectors, W, k=5):\n",
        "    \"\"\"Translate a word using learned mapping W and return top-k translations\"\"\"\n",
        "    if word not in src_vectors:\n",
        "        return []\n",
        "\n",
        "    # Get vector and apply transformation\n",
        "    src_vec = src_vectors[word]\n",
        "    src_vec_norm = src_vec / np.linalg.norm(src_vec)\n",
        "    mapped_vec = src_vec_norm.dot(W)\n",
        "\n",
        "    # Find nearest neighbors in target space\n",
        "    similarities = []\n",
        "    for tgt_word, tgt_vec in tgt_vectors.items():\n",
        "        tgt_vec_norm = tgt_vec / np.linalg.norm(tgt_vec)\n",
        "        sim = np.dot(mapped_vec, tgt_vec_norm)\n",
        "        similarities.append((tgt_word, sim))\n",
        "\n",
        "    # Sort by similarity and return top-k\n",
        "    similarities.sort(key=lambda x: x[1], reverse=True)\n",
        "    return similarities[:k]\n",
        "# 3.2 Evaluate translation accuracy\n",
        "def evaluate_word_translation(test_pairs, src_vectors, tgt_vectors, W):\n",
        "    \"\"\"Evaluate word translation accuracy using Precision@1 and Precision@5\"\"\"\n",
        "    correct_1 = 0\n",
        "    correct_5 = 0\n",
        "    total = 0\n",
        "\n",
        "    for src_word, tgt_word in tqdm(test_pairs, desc=\"Evaluating\"):\n",
        "        if src_word in src_vectors and tgt_word in tgt_vectors:\n",
        "            translations = translate_word(src_word, src_vectors, tgt_vectors, W, k=5)\n",
        "\n",
        "            if translations:\n",
        "                total += 1\n",
        "\n",
        "                # Check Precision@1 (exact match for top result)\n",
        "                if translations[0][0] == tgt_word:\n",
        "                    correct_1 += 1\n",
        "\n",
        "                # Check Precision@5 (correct translation in top 5)\n",
        "                if any(t[0] == tgt_word for t in translations):\n",
        "                    correct_5 += 1\n",
        "\n",
        "    p1 = correct_1 / total if total > 0 else 0\n",
        "    p5 = correct_5 / total if total > 0 else 0\n",
        "\n",
        "    return p1, p5\n",
        "\n",
        "# Evaluate on test set\n",
        "precision_1, precision_5 = evaluate_word_translation(test_dict, en_vectors, hi_vectors, W)\n",
        "print(f\"Precision@1: {precision_1:.4f}\")\n",
        "print(f\"Precision@5: {precision_5:.4f}\")\n",
        "\n",
        "# 3.3 Analyze cosine similarities between aligned word pairs\n",
        "def analyze_similarities(pairs, src_vectors, tgt_vectors, W):\n",
        "    \"\"\"Compute cosine similarities between aligned word pairs\"\"\"\n",
        "    similarities = []\n",
        "\n",
        "    for src_word, tgt_word in pairs:\n",
        "        if src_word in src_vectors and tgt_word in tgt_vectors:\n",
        "            # Get vectors\n",
        "            src_vec = src_vectors[src_word]\n",
        "            tgt_vec = tgt_vectors[tgt_word]\n",
        "\n",
        "            # Normalize vectors\n",
        "            src_vec_norm = src_vec / np.linalg.norm(src_vec)\n",
        "            tgt_vec_norm = tgt_vec / np.linalg.norm(tgt_vec)\n",
        "\n",
        "            # Apply transformation to source vector\n",
        "            mapped_vec = src_vec_norm.dot(W)\n",
        "\n",
        "            # Compute cosine similarity\n",
        "            sim = np.dot(mapped_vec, tgt_vec_norm)\n",
        "\n",
        "            similarities.append({\n",
        "                'source': src_word,\n",
        "                'target': tgt_word,\n",
        "                'similarity': sim\n",
        "            })\n",
        "\n",
        "    return pd.DataFrame(similarities)\n",
        "\n",
        "# Analyze similarities for a subset of word pairs\n",
        "similarities_df = analyze_similarities(test_dict[:100], en_vectors, hi_vectors, W)\n",
        "similarities_df.describe()\n"
      ]
    },
    {
      "cell_type": "code",
      "execution_count": 10,
      "metadata": {
        "colab": {
          "base_uri": "https://localhost:8080/",
          "height": 1000,
          "referenced_widgets": [
            "0002e756f5e04f1d8cb29e606df46758",
            "87cce749784442c3a4f66c191f06fdab",
            "1719e8c4476c401ab5bb431dbe1fa38b",
            "018c27ecf5ed4c5baf01c21661a21199",
            "18d96a5c313a464c8b81387452348a9a",
            "8952b69f13a34d8ab5570c8546c68269",
            "89156fff5d44406798af32899567afa0",
            "31fabe171c7c45acb6d82c1e2f691330",
            "58319f75453b4526938a2453d89e44e6",
            "4b915be6a12a4543ba67ea064527f46f",
            "4f02cf3895a94dec884154a7ce997c2b",
            "bf69f11f27e44602b9612c1785209fee",
            "7e42dabd5e2e40a1b5bc61dd0b56644c",
            "02fd769586c44d3785414eb0d151d87c",
            "7e683b3efc07408d882bb2a9a29b5767",
            "9b46b6651c484a4489b90d8ff7953a36",
            "7034dbb9c1ed4a42b1aa8dc4e447f14c",
            "2c39710505b74d41bba98e2047af35a2",
            "64bba0702f50425c8d1984e8a10f1786",
            "f62bed2293d14d8baba9e49f5bc4172d",
            "a184fdded4df460bb9e5b85e34df9952",
            "85627d1a756d473eae1940917dd92729",
            "b5c960e0531b4fde83a1be9f0bdfbf6d",
            "d01d855bbda6428eb826a42ab989a2cd",
            "701c4c4f949d4182aef9628c57a46948",
            "68ae7e80c1de435a9f9d9a55a29a748f",
            "07f2c24001864bb19339ccb073d01ec8",
            "31aad99860404757a1057b2bb119ffeb",
            "4f63e90143304ddfa568c3de1ca3fa46",
            "70939be07d864f078095249cd3ce8f53",
            "09bfa9ba2be545eab52fbb01b398445f",
            "d6b36986a8844b76bd58d8cba0221ad2",
            "81f731840b814392af9baca1fbf93a4f"
          ]
        },
        "id": "k0DRaZ1Ewedr",
        "outputId": "48b55fda-b806-4741-b5d0-b8f37f9d1670"
      },
      "outputs": [
        {
          "data": {
            "image/png": "[encoded data removed]",
            "text/plain": [
              "<Figure size 1000x600 with 1 Axes>"
            ]
          },
          "metadata": {},
          "output_type": "display_data"
        },
        {
          "name": "stdout",
          "output_type": "stream",
          "text": [
            "\n",
            "Evaluating with dictionary size: 5000\n",
            "Procrustes alignment computed in 0.02 seconds\n"
          ]
        },
        {
          "data": {
            "application/vnd.jupyter.widget-view+json": {
              "model_id": "0002e756f5e04f1d8cb29e606df46758",
              "version_major": 2,
              "version_minor": 0
            },
            "text/plain": [
              "Evaluating:   0%|          | 0/1000 [00:00<?, ?it/s]"
            ]
          },
          "metadata": {},
          "output_type": "display_data"
        },
        {
          "name": "stderr",
          "output_type": "stream",
          "text": [
            "<ipython-input-9-9c40a0d9cffd>:12: DeprecationWarning: __array__ implementation doesn't accept a copy keyword, so passing copy=False failed. __array__ must implement 'dtype' and 'copy' keyword arguments.\n",
            "  mapped_vec = src_vec_norm.dot(W)\n"
          ]
        },
        {
          "name": "stdout",
          "output_type": "stream",
          "text": [
            "\n",
            "Evaluating with dictionary size: 10000\n",
            "Procrustes alignment computed in 0.02 seconds\n"
          ]
        },
        {
          "data": {
            "application/vnd.jupyter.widget-view+json": {
              "model_id": "bf69f11f27e44602b9612c1785209fee",
              "version_major": 2,
              "version_minor": 0
            },
            "text/plain": [
              "Evaluating:   0%|          | 0/1000 [00:00<?, ?it/s]"
            ]
          },
          "metadata": {},
          "output_type": "display_data"
        },
        {
          "name": "stdout",
          "output_type": "stream",
          "text": [
            "\n",
            "Evaluating with dictionary size: 20000\n",
            "Procrustes alignment computed in 0.03 seconds\n"
          ]
        },
        {
          "data": {
            "application/vnd.jupyter.widget-view+json": {
              "model_id": "b5c960e0531b4fde83a1be9f0bdfbf6d",
              "version_major": 2,
              "version_minor": 0
            },
            "text/plain": [
              "Evaluating:   0%|          | 0/1000 [00:00<?, ?it/s]"
            ]
          },
          "metadata": {},
          "output_type": "display_data"
        },
        {
          "data": {
            "image/png": "[encoded data removed]",
            "text/plain": [
              "<Figure size 1000x600 with 1 Axes>"
            ]
          },
          "metadata": {},
          "output_type": "display_data"
        }
      ],
      "source": [
        "\n",
        "# Visualize similarity distribution\n",
        "plt.figure(figsize=(10, 6))\n",
        "plt.hist(similarities_df['similarity'], bins=20, alpha=0.7)\n",
        "plt.title('Distribution of Cosine Similarities Between Aligned Word Pairs')\n",
        "plt.xlabel('Cosine Similarity')\n",
        "plt.ylabel('Frequency')\n",
        "plt.grid(True, linestyle='--', alpha=0.7)\n",
        "plt.savefig('similarity_distribution.png')\n",
        "plt.show()\n",
        "\n",
        "# 3.4 Ablation study: Impact of bilingual lexicon size\n",
        "def ablation_study(dictionary, src_vectors, tgt_vectors, sizes=[5000, 10000, 20000]):\n",
        "    \"\"\"Evaluate the impact of dictionary size on alignment quality\"\"\"\n",
        "    results = []\n",
        "\n",
        "    for size in sizes:\n",
        "        # Ensure we don't exceed dictionary size\n",
        "        size = min(size, len(dictionary))\n",
        "\n",
        "        print(f\"\\nEvaluating with dictionary size: {size}\")\n",
        "\n",
        "        # Use first 'size' pairs for training\n",
        "        train_subset = dictionary[:size]\n",
        "        # Use next 1000 pairs for testing\n",
        "        test_subset = dictionary[size:size+1000]\n",
        "\n",
        "        # Prepare matrices\n",
        "        X, Y, _ = prepare_matrices(src_vectors, tgt_vectors, train_subset)\n",
        "\n",
        "        # Normalize\n",
        "        X_norm = normalize_embeddings(X)\n",
        "        Y_norm = normalize_embeddings(Y)\n",
        "\n",
        "        # Learn mapping\n",
        "        W = procrustes_align(X_norm, Y_norm)\n",
        "\n",
        "        # Evaluate\n",
        "        p1, p5 = evaluate_word_translation(test_subset, src_vectors, tgt_vectors, W)\n",
        "\n",
        "        results.append({\n",
        "            'dictionary_size': size,\n",
        "            'precision@1': p1,\n",
        "            'precision@5': p5\n",
        "        })\n",
        "\n",
        "    return pd.DataFrame(results)\n",
        "\n",
        "# Perform ablation study\n",
        "ablation_results = ablation_study(muse_dict, en_vectors, hi_vectors, sizes=[5000, 10000, 20000])\n",
        "ablation_results\n",
        "\n",
        "# Visualize ablation study results\n",
        "plt.figure(figsize=(10, 6))\n",
        "plt.plot(ablation_results['dictionary_size'], ablation_results['precision@1'], 'o-', label='Precision@1')\n",
        "plt.plot(ablation_results['dictionary_size'], ablation_results['precision@5'], 's-', label='Precision@5')\n",
        "plt.title('Impact of Dictionary Size on Alignment Quality')\n",
        "plt.xlabel('Dictionary Size')\n",
        "plt.ylabel('Precision')\n",
        "plt.grid(True, linestyle='--', alpha=0.7)\n",
        "plt.legend()\n",
        "plt.savefig('ablation_results.png')\n",
        "plt.show()"
      ]
    },
    {
      "cell_type": "code",
      "execution_count": 11,
      "metadata": {
        "colab": {
          "base_uri": "https://localhost:8080/"
        },
        "id": "jxbSu6RxZxd1",
        "outputId": "aeed5df9-3c0e-4194-d2d8-b527c98d8911"
      },
      "outputs": [
        {
          "name": "stdout",
          "output_type": "stream",
          "text": [
            "Example translations:\n"
          ]
        },
        {
          "name": "stderr",
          "output_type": "stream",
          "text": [
            "<ipython-input-9-9c40a0d9cffd>:12: DeprecationWarning: __array__ implementation doesn't accept a copy keyword, so passing copy=False failed. __array__ must implement 'dtype' and 'copy' keyword arguments.\n",
            "  mapped_vec = src_vec_norm.dot(W)\n"
          ]
        },
        {
          "name": "stdout",
          "output_type": "stream",
          "text": [
            "\n",
            "computer -> ['कंप्यूटर', 'कम्प्यूटर', 'सिंप्यूटर']\n",
            "Similarity scores: ['0.7496', '0.7225', '0.7093']\n",
            "\n",
            "language -> ['भाषा', 'भाषाऔं', 'भाषाए']\n",
            "Similarity scores: ['0.7308', '0.7085', '0.6969']\n",
            "\n",
            "school -> ['स्कूल', 'स्कूल,', 'स्कूलो']\n",
            "Similarity scores: ['0.7643', '0.7382', '0.7116']\n",
            "\n",
            "family -> ['परिवार', 'सपरिवार', 'परिवारिक']\n",
            "Similarity scores: ['0.5987', '0.5846', '0.5514']\n",
            "\n",
            "water -> ['पानी', 'जल', 'जल।']\n",
            "Similarity scores: ['0.7435', '0.6961', '0.6136']\n",
            "\n",
            "food -> ['खाद्य', 'खाद्द', 'भोज्य']\n",
            "Similarity scores: ['0.7127', '0.6529', '0.6418']\n",
            "\n",
            "technology -> ['प्रौद्योगिकी', 'प्रौद्योगिकीय', 'जैवप्रौद्योगिकी']\n",
            "Similarity scores: ['0.7456', '0.7144', '0.7142']\n",
            "\n",
            "health -> ['स्वास्थ्य', 'स्वास्थ्यलाभ', 'स्वास्थ']\n",
            "Similarity scores: ['0.7421', '0.6771', '0.6737']\n"
          ]
        }
      ],
      "source": [
        "\n",
        "# 4. Example translations for common English words\n",
        "example_words = ['computer', 'language', 'school', 'family', 'water', 'food', 'technology', 'health']\n",
        "\n",
        "print(\"Example translations:\")\n",
        "for word in example_words:\n",
        "    if word in en_vectors:\n",
        "        translations = translate_word(word, en_vectors, hi_vectors, W, k=3)\n",
        "        print(f\"\\n{word} -> {[t[0] for t in translations]}\")\n",
        "        print(f\"Similarity scores: {[f'{t[1]:.4f}' for t in translations]}\")\n"
      ]
    },
    {
      "cell_type": "code",
      "execution_count": 12,
      "metadata": {
        "colab": {
          "base_uri": "https://localhost:8080/"
        },
        "id": "GaAY5BGUZ4-_",
        "outputId": "2e23ffed-886f-49b3-db8e-cebc14cc1fd5"
      },
      "outputs": [
        {
          "name": "stdout",
          "output_type": "stream",
          "text": [
            "\n",
            "Implementation complete. Results saved to files.\n"
          ]
        }
      ],
      "source": [
        "\n",
        "# 5. Save alignment matrix and results\n",
        "np.save('alignment_matrix.npy', W)\n",
        "similarities_df.to_csv('word_pair_similarities.csv', index=False)\n",
        "ablation_results.to_csv('ablation_study_results.csv', index=False)\n",
        "\n",
        "print(\"\\nImplementation complete. Results saved to files.\")"
      ]
    }
  ],
  "metadata": {
    "colab": {
      "machine_shape": "hm",
      "provenance": []
    },
    "kernelspec": {
      "display_name": "Python 3",
      "name": "python3"
    },
    "language_info": {
      "name": "python"
    }
  },
  "nbformat": 4,
  "nbformat_minor": 0
}
